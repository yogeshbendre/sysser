{
 "cells": [
  {
   "cell_type": "code",
   "execution_count": 1,
   "metadata": {},
   "outputs": [],
   "source": [
    "import pandas as pd\n",
    "import matplotlib.pyplot as plt\n",
    "import seaborn as sns\n",
    "%matplotlib inline"
   ]
  },
  {
   "cell_type": "code",
   "execution_count": 2,
   "metadata": {},
   "outputs": [
    {
     "data": {
      "text/html": [
       "<div>\n",
       "<style scoped>\n",
       "    .dataframe tbody tr th:only-of-type {\n",
       "        vertical-align: middle;\n",
       "    }\n",
       "\n",
       "    .dataframe tbody tr th {\n",
       "        vertical-align: top;\n",
       "    }\n",
       "\n",
       "    .dataframe thead th {\n",
       "        text-align: right;\n",
       "    }\n",
       "</style>\n",
       "<table border=\"1\" class=\"dataframe\">\n",
       "  <thead>\n",
       "    <tr style=\"text-align: right;\">\n",
       "      <th></th>\n",
       "      <th>date</th>\n",
       "      <th>vcName</th>\n",
       "      <th>component</th>\n",
       "      <th>pid</th>\n",
       "      <th>boot_time_in_sec</th>\n",
       "      <th>last_started_at</th>\n",
       "      <th>last_triggered_at</th>\n",
       "    </tr>\n",
       "  </thead>\n",
       "  <tbody>\n",
       "    <tr>\n",
       "      <th>0</th>\n",
       "      <td>1.563347e+09</td>\n",
       "      <td>cloud02-w3.stls.local</td>\n",
       "      <td>vsphere-ui</td>\n",
       "      <td>36141</td>\n",
       "      <td>42</td>\n",
       "      <td>2019-07-17 07:11:20.068</td>\n",
       "      <td>2019-07-17 07:10:37.937</td>\n",
       "    </tr>\n",
       "    <tr>\n",
       "      <th>1</th>\n",
       "      <td>1.563347e+09</td>\n",
       "      <td>cloud02-w3.stls.local</td>\n",
       "      <td>Start All Plugins</td>\n",
       "      <td>36141</td>\n",
       "      <td>65</td>\n",
       "      <td>2019-07-17 07:11:53.883</td>\n",
       "      <td>2019-07-17 07:10:48.691</td>\n",
       "    </tr>\n",
       "    <tr>\n",
       "      <th>2</th>\n",
       "      <td>1.563347e+09</td>\n",
       "      <td>cloud02-w3.stls.local</td>\n",
       "      <td>org.apache.felix.eventadmin:1.3.2</td>\n",
       "      <td>36141</td>\n",
       "      <td>0</td>\n",
       "      <td>2019-07-17 07:10:48.752</td>\n",
       "      <td>2019-07-17 07:10:48.691</td>\n",
       "    </tr>\n",
       "    <tr>\n",
       "      <th>3</th>\n",
       "      <td>1.563347e+09</td>\n",
       "      <td>cloud02-w3.stls.local</td>\n",
       "      <td>com.vmware.vim-messaging-websocket:6.9.1.10000</td>\n",
       "      <td>36141</td>\n",
       "      <td>1</td>\n",
       "      <td>2019-07-17 07:10:49.340</td>\n",
       "      <td>2019-07-17 07:10:48.753</td>\n",
       "    </tr>\n",
       "    <tr>\n",
       "      <th>4</th>\n",
       "      <td>1.563347e+09</td>\n",
       "      <td>cloud02-w3.stls.local</td>\n",
       "      <td>javax.persistence:2.1.0.v201304241213</td>\n",
       "      <td>36141</td>\n",
       "      <td>0</td>\n",
       "      <td>2019-07-17 07:10:49.345</td>\n",
       "      <td>2019-07-17 07:10:49.341</td>\n",
       "    </tr>\n",
       "  </tbody>\n",
       "</table>\n",
       "</div>"
      ],
      "text/plain": [
       "           date                 vcName  \\\n",
       "0  1.563347e+09  cloud02-w3.stls.local   \n",
       "1  1.563347e+09  cloud02-w3.stls.local   \n",
       "2  1.563347e+09  cloud02-w3.stls.local   \n",
       "3  1.563347e+09  cloud02-w3.stls.local   \n",
       "4  1.563347e+09  cloud02-w3.stls.local   \n",
       "\n",
       "                                        component    pid  boot_time_in_sec  \\\n",
       "0                                      vsphere-ui  36141                42   \n",
       "1                               Start All Plugins  36141                65   \n",
       "2               org.apache.felix.eventadmin:1.3.2  36141                 0   \n",
       "3  com.vmware.vim-messaging-websocket:6.9.1.10000  36141                 1   \n",
       "4           javax.persistence:2.1.0.v201304241213  36141                 0   \n",
       "\n",
       "           last_started_at        last_triggered_at  \n",
       "0  2019-07-17 07:11:20.068  2019-07-17 07:10:37.937  \n",
       "1  2019-07-17 07:11:53.883  2019-07-17 07:10:48.691  \n",
       "2  2019-07-17 07:10:48.752  2019-07-17 07:10:48.691  \n",
       "3  2019-07-17 07:10:49.340  2019-07-17 07:10:48.753  \n",
       "4  2019-07-17 07:10:49.345  2019-07-17 07:10:49.341  "
      ]
     },
     "execution_count": 2,
     "metadata": {},
     "output_type": "execute_result"
    }
   ],
   "source": [
    "df = pd.read_csv('plugins.txt',sep='|')\n",
    "df.head()"
   ]
  },
  {
   "cell_type": "code",
   "execution_count": 8,
   "metadata": {},
   "outputs": [
    {
     "data": {
      "text/plain": [
       "<matplotlib.axes._subplots.AxesSubplot at 0x29ff2e9e1d0>"
      ]
     },
     "execution_count": 8,
     "metadata": {},
     "output_type": "execute_result"
    },
    {
     "data": {
      "image/png": "[encoded data removed]",
      "text/plain": [
       "<Figure size 432x288 with 1 Axes>"
      ]
     },
     "metadata": {
      "needs_background": "light"
     },
     "output_type": "display_data"
    }
   ],
   "source": [
    "#sns.distplot(df[df['boot_time_in_sec']>0]['boot_time_in_sec'],kde=False,bins=10)\n",
    "sns.distplot(df.iloc[2:]['boot_time_in_sec'],kde=False,bins=10)\n",
    "#df['boot_time_in_sec']"
   ]
  },
  {
   "cell_type": "code",
   "execution_count": null,
   "metadata": {},
   "outputs": [],
   "source": []
  }
 ],
 "metadata": {
  "kernelspec": {
   "display_name": "Python 3",
   "language": "python",
   "name": "python3"
  },
  "language_info": {
   "codemirror_mode": {
    "name": "ipython",
    "version": 3
   },
   "file_extension": ".py",
   "mimetype": "text/x-python",
   "name": "python",
   "nbconvert_exporter": "python",
   "pygments_lexer": "ipython3",
   "version": "3.7.1"
  }
 },
 "nbformat": 4,
 "nbformat_minor": 2
}
